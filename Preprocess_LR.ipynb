{
  "nbformat": 4,
  "nbformat_minor": 0,
  "metadata": {
    "colab": {
      "provenance": [],
      "authorship_tag": "ABX9TyMPwVCZo9jOBSk2ya9NHeyB",
      "include_colab_link": true
    },
    "kernelspec": {
      "name": "python3",
      "display_name": "Python 3"
    },
    "language_info": {
      "name": "python"
    }
  },
  "cells": [
    {
      "cell_type": "markdown",
      "metadata": {
        "id": "view-in-github",
        "colab_type": "text"
      },
      "source": [
        "<a href=\"https://colab.research.google.com/github/AlexBYork/MachineLearningExamples/blob/main/Preprocess_LR.ipynb\" target=\"_parent\"><img src=\"https://colab.research.google.com/assets/colab-badge.svg\" alt=\"Open In Colab\"/></a>"
      ]
    },
    {
      "cell_type": "code",
      "source": [
        "import pandas as pd\n",
        "from matplotlib import pyplot as plt\n",
        "%matplotlib inline\n",
        "from sklearn.model_selection import train_test_split\n",
        "from sklearn.metrics import accuracy_score\n",
        "\n",
        "\n",
        "# load the training dataset\n",
        "!wget https://raw.githubusercontent.com/MicrosoftDocs/mslearn-introduction-to-machine-learning/main/Data/ml-basics/diabetes.csv\n",
        "diabetes = pd.read_csv('diabetes.csv')\n",
        "\n",
        "# Separate features and labels\n",
        "features = ['Pregnancies','PlasmaGlucose','DiastolicBloodPressure','TricepsThickness','SerumInsulin','BMI','DiabetesPedigree','Age']\n",
        "label = 'Diabetic'\n",
        "X, y = diabetes[features].values, diabetes[label].values\n",
        "\n",
        "\n",
        "# Split data 70%-30% into training set and test set\n",
        "X_train, X_test, y_train, y_test = train_test_split(X, y, test_size=0.30, random_state=0)\n",
        "\n",
        "print ('Training cases: %d\\nTest cases: %d' % (X_train.shape[0], X_test.shape[0]))"
      ],
      "metadata": {
        "colab": {
          "base_uri": "https://localhost:8080/"
        },
        "id": "R2FAiRUEi_wJ",
        "outputId": "df630a02-cb49-4f36-ac4d-fe28f52472ad"
      },
      "execution_count": 1,
      "outputs": [
        {
          "output_type": "stream",
          "name": "stdout",
          "text": [
            "--2022-10-25 23:48:45--  https://raw.githubusercontent.com/MicrosoftDocs/mslearn-introduction-to-machine-learning/main/Data/ml-basics/diabetes.csv\n",
            "Resolving raw.githubusercontent.com (raw.githubusercontent.com)... 185.199.110.133, 185.199.111.133, 185.199.108.133, ...\n",
            "Connecting to raw.githubusercontent.com (raw.githubusercontent.com)|185.199.110.133|:443... connected.\n",
            "HTTP request sent, awaiting response... 200 OK\n",
            "Length: 776415 (758K) [text/plain]\n",
            "Saving to: ‘diabetes.csv’\n",
            "\n",
            "diabetes.csv        100%[===================>] 758.22K  --.-KB/s    in 0.03s   \n",
            "\n",
            "2022-10-25 23:48:46 (24.8 MB/s) - ‘diabetes.csv’ saved [776415/776415]\n",
            "\n",
            "Training cases: 10500\n",
            "Test cases: 4500\n"
          ]
        }
      ]
    },
    {
      "cell_type": "code",
      "source": [
        "# Set regularization rate\n",
        "reg = 0.01"
      ],
      "metadata": {
        "id": "a-dvUHqujXSC"
      },
      "execution_count": 3,
      "outputs": []
    },
    {
      "cell_type": "code",
      "execution_count": 4,
      "metadata": {
        "colab": {
          "base_uri": "https://localhost:8080/"
        },
        "id": "DihQnAtVi84x",
        "outputId": "c3cde414-ad8b-4e93-ac20-a3ac9191eeae"
      },
      "outputs": [
        {
          "output_type": "stream",
          "name": "stdout",
          "text": [
            "Pipeline(steps=[('preprocessor',\n",
            "                 ColumnTransformer(transformers=[('num',\n",
            "                                                  Pipeline(steps=[('scaler',\n",
            "                                                                   StandardScaler())]),\n",
            "                                                  [0, 1, 2, 3, 4, 5, 6]),\n",
            "                                                 ('cat',\n",
            "                                                  Pipeline(steps=[('onehot',\n",
            "                                                                   OneHotEncoder(handle_unknown='ignore'))]),\n",
            "                                                  [7])])),\n",
            "                ('logregressor',\n",
            "                 LogisticRegression(C=100.0, solver='liblinear'))])\n"
          ]
        }
      ],
      "source": [
        "# Train the model\n",
        "from sklearn.compose import ColumnTransformer\n",
        "from sklearn.pipeline import Pipeline\n",
        "from sklearn.preprocessing import StandardScaler, OneHotEncoder\n",
        "from sklearn.linear_model import LogisticRegression\n",
        "import numpy as np\n",
        "\n",
        "# Define preprocessing for numeric columns (normalize them so they're on the same scale)\n",
        "numeric_features = [0,1,2,3,4,5,6]\n",
        "numeric_transformer = Pipeline(steps=[\n",
        "    ('scaler', StandardScaler())])\n",
        "\n",
        "# Define preprocessing for categorical features (encode the Age column)\n",
        "categorical_features = [7]\n",
        "categorical_transformer = Pipeline(steps=[\n",
        "    ('onehot', OneHotEncoder(handle_unknown='ignore'))])\n",
        "\n",
        "# Combine preprocessing steps\n",
        "preprocessor = ColumnTransformer(\n",
        "    transformers=[\n",
        "        ('num', numeric_transformer, numeric_features),\n",
        "        ('cat', categorical_transformer, categorical_features)])\n",
        "\n",
        "# Create preprocessing and training pipeline\n",
        "pipeline = Pipeline(steps=[('preprocessor', preprocessor),\n",
        "                           ('logregressor', LogisticRegression(C=1/reg, solver=\"liblinear\"))])\n",
        "\n",
        "\n",
        "# fit the pipeline to train a logistic regression model on the training set\n",
        "model = pipeline.fit(X_train, (y_train))\n",
        "print (model)"
      ]
    },
    {
      "cell_type": "code",
      "source": [
        "from sklearn.metrics import roc_curve\n",
        "from sklearn.metrics import confusion_matrix\n",
        "from sklearn.metrics import precision_score\n",
        "from sklearn.metrics import recall_score\n",
        "from sklearn.metrics import roc_auc_score\n",
        "import matplotlib\n",
        "import matplotlib.pyplot as plt\n",
        "\n",
        "# Get predictions from test data\n",
        "predictions = model.predict(X_test)\n",
        "y_scores = model.predict_proba(X_test)\n",
        "\n",
        "# Get evaluation metrics\n",
        "cm = confusion_matrix(y_test, predictions)\n",
        "print ('Confusion Matrix:\\n',cm, '\\n')\n",
        "print('Accuracy:', accuracy_score(y_test, predictions))\n",
        "print(\"Overall Precision:\",precision_score(y_test, predictions))\n",
        "print(\"Overall Recall:\",recall_score(y_test, predictions))\n",
        "auc = roc_auc_score(y_test,y_scores[:,1])\n",
        "print('AUC: ' + str(auc))\n",
        "\n",
        "# calculate ROC curve\n",
        "fpr, tpr, thresholds = roc_curve(y_test, y_scores[:,1])\n",
        "\n",
        "# plot ROC curve\n",
        "fig = plt.figure(figsize=(6, 6))\n",
        "# Plot the diagonal 50% line\n",
        "plt.plot([0, 1], [0, 1], 'k--')\n",
        "# Plot the FPR and TPR achieved by our model\n",
        "plt.plot(fpr, tpr)\n",
        "plt.xlabel('False Positive Rate')\n",
        "plt.ylabel('True Positive Rate')\n",
        "plt.title('ROC Curve')\n",
        "plt.show()\n"
      ],
      "metadata": {
        "colab": {
          "base_uri": "https://localhost:8080/",
          "height": 550
        },
        "id": "vbtn8xqdjZck",
        "outputId": "9f649980-91e3-4c2c-8fbc-308231f111a1"
      },
      "execution_count": 8,
      "outputs": [
        {
          "output_type": "stream",
          "name": "stdout",
          "text": [
            "Confusion Matrix:\n",
            " [[2667  319]\n",
            " [ 406 1108]] \n",
            "\n",
            "Accuracy: 0.8388888888888889\n",
            "Overall Precision: 0.7764540995094604\n",
            "Overall Recall: 0.7318361955085865\n",
            "AUC: 0.9202431691354016\n"
          ]
        },
        {
          "output_type": "display_data",
          "data": {
            "text/plain": [
              "<Figure size 432x432 with 1 Axes>"
            ],
            "image/png": "[encoded data removed]"
          },
          "metadata": {
            "needs_background": "light"
          }
        }
      ]
    },
    {
      "cell_type": "code",
      "source": [],
      "metadata": {
        "id": "Qejyvjaujqoa"
      },
      "execution_count": null,
      "outputs": []
    }
  ]
}