{
  "nbformat": 4,
  "nbformat_minor": 0,
  "metadata": {
    "colab": {
      "provenance": [],
      "authorship_tag": "ABX9TyPaCRmb+SGEBJ43KHbJB3fp",
      "include_colab_link": true
    },
    "kernelspec": {
      "name": "python3",
      "display_name": "Python 3"
    },
    "language_info": {
      "name": "python"
    }
  },
  "cells": [
    {
      "cell_type": "markdown",
      "metadata": {
        "id": "view-in-github",
        "colab_type": "text"
      },
      "source": [
        "<a href=\"https://colab.research.google.com/github/AlexBYork/MachineLearningExamples/blob/main/ClimbingStairs_and_fibonnaci.ipynb\" target=\"_parent\"><img src=\"https://colab.research.google.com/assets/colab-badge.svg\" alt=\"Open In Colab\"/></a>"
      ]
    },
    {
      "cell_type": "markdown",
      "source": [
        "There are n steps on a stair-case.\n",
        "You can either take 1 or 2 steps at a time.\n",
        "Write code to solve for how many distinct ways there are to climb.\n",
        "\n",
        "Ex.\n",
        "    n=1\n",
        "1. 1 step\n",
        "for n=1 there is 1 way\n",
        "    n=2\n",
        "1. 1 step + 1 step\n",
        "2. 2 steps \n",
        "for n=2 there are 2 distinct ways\n",
        "\n",
        "    n=3\n",
        "1. 1 step + 1 step + 1 step\n",
        "2. 1 step + 2 steps\n",
        "3. 2 steps + 1 step\n",
        "for n=3 there are 3 distinct ways"
      ],
      "metadata": {
        "id": "IdFjb0PBxvKW"
      }
    },
    {
      "cell_type": "markdown",
      "source": [
        "This is n = x(1)+y(2)"
      ],
      "metadata": {
        "id": "ciQWMl00yLso"
      }
    },
    {
      "cell_type": "markdown",
      "source": [
        "We can start from the top.\n",
        "\n",
        "Consider -> f n = 10\n",
        "\n",
        "Then from position n = 9 we have one way of getting to n=10 (taking one step)\n",
        "\n",
        "From position n = 8 we have two ways of getting to the top (taking one step then one step or taking two steps)\n",
        "\n",
        "Any other situation will require us to reach one of these positions (either two steps or one step from the top) if we count backwards to our beginning value we can determine the total number of ways.\n",
        "\n",
        "This gives us starting values of 1 and 2 -> then we can count backwards another spot. From that spot we can either reach 1 spot from the top or 2 spots from the top. - this means that the spot one before 2 from the top (3 from the top) there are the same number of spots as 1 from the top and 2 from the top.\n",
        "\n",
        "Quick thinking will let us know that this will continue for any height."
      ],
      "metadata": {
        "id": "Feumb2de3njv"
      }
    },
    {
      "cell_type": "markdown",
      "source": [
        "Because I'm a bit of a numbers nerd I am noticing this is the fibonaci sequence ... ie. (1, 2, 3,5,8,13) etc... "
      ],
      "metadata": {
        "id": "3QtPtkvE_buZ"
      }
    },
    {
      "cell_type": "code",
      "source": [
        "def dist_stair_counts (n):\n",
        "  if n==1:\n",
        "    return 1\n",
        "  if n==2:\n",
        "    return 2\n",
        "  else:  \n",
        "    a = 1 # a is a standin for our starting spot 1 step from the top\n",
        "    b = 2 # b is a stand-in for our spot 2 steps from the top\n",
        "    for i in range(n-1):\n",
        "      temp_b = b\n",
        "      b=a+b\n",
        "      a = temp_b\n",
        "    return b  "
      ],
      "metadata": {
        "id": "rCVn66Yt_HU8"
      },
      "execution_count": 7,
      "outputs": []
    },
    {
      "cell_type": "code",
      "source": [
        "dist_stair_counts(5)"
      ],
      "metadata": {
        "colab": {
          "base_uri": "https://localhost:8080/"
        },
        "id": "a7Dm_6TZAEqb",
        "outputId": "4cf27350-d7ed-4884-d75d-1156387dd3dc"
      },
      "execution_count": 10,
      "outputs": [
        {
          "output_type": "execute_result",
          "data": {
            "text/plain": [
              "13"
            ]
          },
          "metadata": {},
          "execution_count": 10
        }
      ]
    },
    {
      "cell_type": "code",
      "source": [
        "# Since we have noticed this is the fibbonaci sequence I thought I would play with it a bit more\n",
        "# Fib sequence 1,1,2,3,5,8,13,21 etc...\n",
        "def fibbonaci(n):\n",
        "  if n==1:\n",
        "      return 1\n",
        "  if n==2:\n",
        "     return 2\n",
        "  else:  \n",
        "      a = 1 # a is a standin for our starting spot 1 step from the top\n",
        "      b = 2 # b is a stand-in for our spot 2 steps from the top\n",
        "      for i in range(n-1):\n",
        "        temp_b = b\n",
        "        b=a+b\n",
        "        a = temp_b\n",
        "      return b "
      ],
      "metadata": {
        "id": "NVp2g4ShA27J"
      },
      "execution_count": 14,
      "outputs": []
    },
    {
      "cell_type": "markdown",
      "source": [
        "Another number associated with this is the golden ratio.\n",
        "It can be visualized by considering a length of string with length = X\n",
        "We want to cut L into two strings one (longer) = L and another (shorter) = S such that the ratio of L to X is the same as the ratio of S to L.\n",
        "or if we call our total length L + S then -> \n",
        "L/(L+S) = S/L\n",
        "For a more complete introduction check out the wikipedia.\n",
        "https://en.wikipedia.org/wiki/Golden_ratio\n",
        "\n",
        "This golen ratio is approached by taking any fibonnaci number n and dividing it by the previous number - > fib(n+1)/ fib(n) for larger numbers."
      ],
      "metadata": {
        "id": "LqJyvVOKBgiM"
      }
    },
    {
      "cell_type": "code",
      "source": [
        "#Estimating our golden ratio is easy\n",
        "def golden_ratio_estimate (n):\n",
        "  x1=fibbonaci(n)\n",
        "  x0=fibbonaci(n-1)\n",
        "  return x1/x0\n",
        "golden_ratio_estimate(10)"
      ],
      "metadata": {
        "id": "gspHPF2jA8hL"
      },
      "execution_count": 20,
      "outputs": []
    },
    {
      "cell_type": "code",
      "source": [
        "golden_ratio_estimate(1000)"
      ],
      "metadata": {
        "colab": {
          "base_uri": "https://localhost:8080/"
        },
        "id": "P6_TK15NBXbO",
        "outputId": "35b10fcd-aa26-4d3c-c581-3870d53be374"
      },
      "execution_count": 22,
      "outputs": [
        {
          "output_type": "execute_result",
          "data": {
            "text/plain": [
              "1.618033988749895"
            ]
          },
          "metadata": {},
          "execution_count": 22
        }
      ]
    },
    {
      "cell_type": "code",
      "source": [],
      "metadata": {
        "id": "6ZJwAANFCpAN"
      },
      "execution_count": null,
      "outputs": []
    }
  ]
}